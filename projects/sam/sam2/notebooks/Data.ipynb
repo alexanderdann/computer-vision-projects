{
 "cells": [
  {
   "cell_type": "code",
   "execution_count": null,
   "metadata": {},
   "outputs": [],
   "source": [
    "%load_ext autoreload\n",
    "%autoreload 2"
   ]
  },
  {
   "cell_type": "code",
   "execution_count": null,
   "metadata": {},
   "outputs": [],
   "source": [
    "from functools import lru_cache\n",
    "from pathlib import Path\n",
    "\n",
    "import cv2\n",
    "import datasets\n",
    "import matplotlib.pyplot as plt\n",
    "import nibabel as nib\n",
    "import numpy as np\n",
    "\n",
    "import nnx.data\n",
    "from nnx.data.ctspine1k.dataset import CTSpine1K, PromptAdapter\n",
    "from nnx.data.data_structures import AnnotationSample, ImagePrompt, SAMSample\n",
    "from nnx.data.plots import visualize_sam_sample\n"
   ]
  },
  {
   "cell_type": "code",
   "execution_count": null,
   "metadata": {},
   "outputs": [],
   "source": [
    "nnx.data.rng = np.random.default_rng(seed=1)"
   ]
  },
  {
   "cell_type": "code",
   "execution_count": null,
   "metadata": {},
   "outputs": [],
   "source": [
    "cache_dir = Path(\"/Users/alexanderdann/Documents/Privat/Code/Data/CTSpine1K\")\n",
    "files = [file.parent for file in cache_dir.rglob(\"*\") if file.suffix == \".gz\"]\n",
    "files\n"
   ]
  },
  {
   "cell_type": "code",
   "execution_count": null,
   "metadata": {},
   "outputs": [],
   "source": [
    "ct_dataset = CTSpine1K(cache_dir=cache_dir)\n",
    "dataset = PromptAdapter(dataset=ct_dataset)"
   ]
  },
  {
   "cell_type": "code",
   "execution_count": null,
   "metadata": {},
   "outputs": [],
   "source": [
    "sample = dataset[2149]\n",
    "fig = visualize_sam_sample(sample)\n",
    "fig.show()"
   ]
  },
  {
   "cell_type": "code",
   "execution_count": null,
   "metadata": {},
   "outputs": [],
   "source": [
    "import numpy as np\n",
    "import cv2\n",
    "from scipy.ndimage import distance_transform_edt\n",
    "\n",
    "\n",
    "def create_gaussian_ramp(mask, sigma=10.0):\n",
    "    \"\"\"Creates a Gaussian ramp from the boundary of a binary mask.\n",
    "\n",
    "    Args:\n",
    "        mask: Binary mask (0 and 1)\n",
    "        sigma: Controls width of the Gaussian transition\n",
    "\n",
    "    Returns:\n",
    "        A float image with values transitioning from 1 at the center to 0 at the boundary\n",
    "\n",
    "    \"\"\"\n",
    "    # Distance transform - each pixel gets its distance to nearest boundary\n",
    "    dist = distance_transform_edt(mask)\n",
    "\n",
    "    # Create Gaussian decay from the boundary\n",
    "    # Values will be 0 at boundary, increasing toward center\n",
    "    ramp = 1 - np.exp(-(dist**2) / (2 * sigma**2))\n",
    "\n",
    "    return ramp"
   ]
  },
  {
   "cell_type": "code",
   "execution_count": null,
   "metadata": {},
   "outputs": [],
   "source": [
    "ramp_mask = create_gaussian_ramp(mask, sigma=0.5)\n",
    "ramp_mask[ramp_mask == mask] = 0\n",
    "ramp_mask[ramp_mask <= 0.99] = 0\n",
    "np.unique(1-ramp_mask)"
   ]
  },
  {
   "cell_type": "code",
   "execution_count": null,
   "metadata": {},
   "outputs": [],
   "source": [
    "alpha = 0.2\n",
    "\n",
    "dist = distance_transform_edt(mask)\n",
    "prob = dist / np.amax(dist)\n",
    "prob /= alpha\n",
    "\n",
    "\n",
    "prob[prob>1] = 1 \n",
    "prob[prob == mask] = 0\n"
   ]
  },
  {
   "cell_type": "code",
   "execution_count": null,
   "metadata": {},
   "outputs": [],
   "source": [
    "import plotly.graph_objects as go\n",
    "import numpy as np\n",
    "from PIL import Image\n",
    "\n",
    "# Sample points with visibility toggle state\n",
    "points = [\n",
    "    {\"name\": \"Point 1\", \"x\": 150, \"y\": 150, \"color\": \"red\", \"visible\": True},\n",
    "    {\"name\": \"Point 2\", \"x\": 250, \"y\": 250, \"color\": \"blue\", \"visible\": True},\n",
    "    {\"name\": \"Point 3\", \"x\": 350, \"y\": 150, \"color\": \"green\", \"visible\": False},\n",
    "]\n",
    "\n",
    "import plotly.graph_objects as go\n",
    "import numpy as np\n",
    "import base64\n",
    "from io import BytesIO\n",
    "from PIL import Image\n",
    "\n",
    "\n",
    "def plot_points_on_image(img_array, points):\n",
    "    # Get image dimensions\n",
    "    if len(img_array.shape) == 3:\n",
    "        img_height, img_width, _ = img_array.shape\n",
    "    else:\n",
    "        img_height, img_width = img_array.shape\n",
    "    \n",
    "    # Convert numpy array to base64 for Plotly\n",
    "    img = Image.fromarray(img_array.astype(np.uint8))\n",
    "    buffer = BytesIO()\n",
    "    img.save(buffer, format=\"PNG\")\n",
    "    img_base64 = f\"data:image/png;base64,{base64.b64encode(buffer.getvalue()).decode()}\"\n",
    "    # Create figure\n",
    "    fig = go.Figure()\n",
    "\n",
    "    # Add image\n",
    "    fig.add_layout_image(\n",
    "        {\n",
    "            \"source\": img_base64,\n",
    "            \"x\": 0,\n",
    "            \"y\": 0,\n",
    "            \"xref\": \"x\",\n",
    "            \"yref\": \"y\",\n",
    "            \"sizex\": img_width,\n",
    "            \"sizey\": img_height,\n",
    "            \"sizing\": \"stretch\",\n",
    "            \"layer\": \"below\",\n",
    "        }\n",
    "    )\n",
    "\n",
    "    # Filter visible points\n",
    "    visible_points = [p for p in points if p[\"visible\"]]\n",
    "\n",
    "    # Add points\n",
    "    if visible_points:\n",
    "        fig.add_trace(\n",
    "            go.Scatter(\n",
    "                x=[p[\"x\"] for p in visible_points],\n",
    "                y=[p[\"y\"] for p in visible_points],\n",
    "                mode=\"markers\",\n",
    "                marker=dict(color=[p[\"color\"] for p in visible_points], size=10),\n",
    "                text=[p[\"name\"] for p in visible_points],\n",
    "                hoverinfo=\"text\",\n",
    "            )\n",
    "        )\n",
    "\n",
    "    # Set layout\n",
    "    fig.update_layout(\n",
    "        width=img_width,\n",
    "        height=img_height,\n",
    "        xaxis=dict(range=[0, img_width], visible=False),\n",
    "        yaxis=dict(\n",
    "            range=[img_height, 0],  # Inverted for image coordinates\n",
    "            visible=False,\n",
    "            scaleanchor=\"x\",\n",
    "            scaleratio=1,\n",
    "        ),\n",
    "        margin=dict(l=0, r=0, t=0, b=0),\n",
    "    )\n",
    "\n",
    "    return fig"
   ]
  },
  {
   "cell_type": "markdown",
   "metadata": {},
   "source": [
    "# SAM2"
   ]
  },
  {
   "cell_type": "code",
   "execution_count": null,
   "metadata": {},
   "outputs": [],
   "source": [
    "import os\n",
    "\n",
    "# if using Apple MPS, fall back to CPU for unsupported ops\n",
    "os.environ[\"PYTORCH_ENABLE_MPS_FALLBACK\"] = \"1\"\n",
    "\n",
    "import numpy as np\n",
    "import torch\n",
    "from PIL import Image\n",
    "\n",
    "device = torch.device(\"cpu\")\n",
    "\n",
    "if torch.cuda.is_available():\n",
    "    device = torch.device(\"cuda\")\n",
    "#elif torch.backends.mps.is_available():\n",
    "#    device = torch.device(\"mps\")\n",
    "\n",
    "print(f\"using device: {device}\")\n"
   ]
  },
  {
   "cell_type": "code",
   "execution_count": null,
   "metadata": {},
   "outputs": [],
   "source": [
    "from sam2.build_sam import build_sam2\n",
    "from sam2.sam2_image_predictor import SAM2ImagePredictor\n",
    "\n",
    "sam2_checkpoint = \"../checkpoints/sam2.1_hiera_large.pt\"\n",
    "model_cfg = \"configs/sam2.1/sam2.1_hiera_l.yaml\"\n",
    "\n",
    "sam2_model = build_sam2(model_cfg, sam2_checkpoint, device=device)\n",
    "\n",
    "predictor = SAM2ImagePredictor(sam2_model)"
   ]
  },
  {
   "cell_type": "code",
   "execution_count": null,
   "metadata": {},
   "outputs": [],
   "source": [
    "image = np.concatenate([inputs[:, :, None] for _ in range(3)], axis=-1).astype(np.float32)"
   ]
  },
  {
   "cell_type": "code",
   "execution_count": null,
   "metadata": {},
   "outputs": [],
   "source": [
    "predictor.set_image(image)"
   ]
  },
  {
   "cell_type": "code",
   "execution_count": null,
   "metadata": {},
   "outputs": [],
   "source": [
    "import matplotlib.pyplot as plt\n",
    "np.random.seed(3)\n",
    "\n",
    "def show_mask(mask, ax, random_color=False, borders = True):\n",
    "    if random_color:\n",
    "        color = np.concatenate([np.random.random(3), np.array([0.6])], axis=0)\n",
    "    else:\n",
    "        color = np.array([30/255, 144/255, 255/255, 0.6])\n",
    "    h, w = mask.shape[-2:]\n",
    "    mask = mask.astype(np.uint8)\n",
    "    mask_image =  mask.reshape(h, w, 1) * color.reshape(1, 1, -1)\n",
    "    if borders:\n",
    "        import cv2\n",
    "        contours, _ = cv2.findContours(mask,cv2.RETR_EXTERNAL, cv2.CHAIN_APPROX_NONE) \n",
    "        # Try to smooth contours\n",
    "        contours = [cv2.approxPolyDP(contour, epsilon=0.01, closed=True) for contour in contours]\n",
    "        mask_image = cv2.drawContours(mask_image, contours, -1, (1, 1, 1, 0.5), thickness=2) \n",
    "    ax.imshow(mask_image)\n",
    "\n",
    "def show_points(coords, labels, ax, marker_size=375):\n",
    "    pos_points = coords[labels==1]\n",
    "    neg_points = coords[labels==0]\n",
    "    ax.scatter(pos_points[:, 0], pos_points[:, 1], color='green', marker='*', s=marker_size, edgecolor='white', linewidth=1.25)\n",
    "    ax.scatter(neg_points[:, 0], neg_points[:, 1], color='red', marker='*', s=marker_size, edgecolor='white', linewidth=1.25)   \n",
    "\n",
    "def show_box(box, ax):\n",
    "    x0, y0 = box[0], box[1]\n",
    "    w, h = box[2] - box[0], box[3] - box[1]\n",
    "    ax.add_patch(plt.Rectangle((x0, y0), w, h, edgecolor='green', facecolor=(0, 0, 0, 0), lw=2))    \n",
    "\n",
    "def show_masks(image, masks, scores, point_coords=None, box_coords=None, input_labels=None, borders=True):\n",
    "    for i, (mask, score) in enumerate(zip(masks, scores)):\n",
    "        plt.figure(figsize=(10, 10))\n",
    "        plt.imshow(image)\n",
    "        show_mask(mask, plt.gca(), borders=borders)\n",
    "        if point_coords is not None:\n",
    "            assert input_labels is not None\n",
    "            show_points(point_coords, input_labels, plt.gca())\n",
    "        if box_coords is not None:\n",
    "            # boxes\n",
    "            show_box(box_coords, plt.gca())\n",
    "        if len(scores) > 1:\n",
    "            plt.title(f\"Mask {i+1}, Score: {score:.3f}\", fontsize=18)\n",
    "        plt.axis('off')\n",
    "        plt.show()"
   ]
  },
  {
   "cell_type": "code",
   "execution_count": null,
   "metadata": {},
   "outputs": [],
   "source": [
    "input_point = np.array([[240, 125]])\n",
    "input_label = np.array([1])"
   ]
  },
  {
   "cell_type": "code",
   "execution_count": null,
   "metadata": {},
   "outputs": [],
   "source": [
    "plt.figure(figsize=(10, 10))\n",
    "plt.imshow(image)\n",
    "show_points(input_point, input_label, plt.gca())\n",
    "plt.axis('on')\n",
    "plt.show()  "
   ]
  },
  {
   "cell_type": "code",
   "execution_count": null,
   "metadata": {},
   "outputs": [],
   "source": [
    "masks, scores, logits = predictor.predict(\n",
    "    point_coords=input_point,\n",
    "    point_labels=input_label,\n",
    "    multimask_output=True,\n",
    ")\n",
    "sorted_ind = np.argsort(scores)[::-1]\n",
    "masks = masks[sorted_ind]\n",
    "scores = scores[sorted_ind]\n",
    "logits = logits[sorted_ind]"
   ]
  },
  {
   "cell_type": "code",
   "execution_count": null,
   "metadata": {},
   "outputs": [],
   "source": [
    "show_masks(image, masks, scores, point_coords=input_point, input_labels=input_label, borders=False)"
   ]
  }
 ],
 "metadata": {
  "kernelspec": {
   "display_name": "venv",
   "language": "python",
   "name": "python3"
  },
  "language_info": {
   "codemirror_mode": {
    "name": "ipython",
    "version": 3
   },
   "file_extension": ".py",
   "mimetype": "text/x-python",
   "name": "python",
   "nbconvert_exporter": "python",
   "pygments_lexer": "ipython3",
   "version": "3.12.9"
  }
 },
 "nbformat": 4,
 "nbformat_minor": 2
}
