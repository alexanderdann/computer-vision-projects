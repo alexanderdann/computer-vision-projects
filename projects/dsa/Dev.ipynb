{
 "cells": [
  {
   "cell_type": "code",
   "execution_count": null,
   "metadata": {},
   "outputs": [
    {
     "name": "stdout",
     "output_type": "stream",
     "text": [
      "(0, 0)\n",
      "(0, 0)\n",
      "(0, 0)\n"
     ]
    },
    {
     "ename": "AssertionError",
     "evalue": "",
     "output_type": "error",
     "traceback": [
      "\u001b[0;31m---------------------------------------------------------------------------\u001b[0m",
      "\u001b[0;31mAssertionError\u001b[0m                            Traceback (most recent call last)",
      "Cell \u001b[0;32mIn[37], line 38\u001b[0m\n\u001b[1;32m     33\u001b[0m                         results\u001b[38;5;241m.\u001b[39mappend(rr)\n\u001b[1;32m     35\u001b[0m         \u001b[38;5;28;01mreturn\u001b[39;00m results\n\u001b[0;32m---> 38\u001b[0m \u001b[38;5;28;01massert\u001b[39;00m Solution()\u001b[38;5;241m.\u001b[39mthreeSum([\u001b[38;5;241m0\u001b[39m, \u001b[38;5;241m0\u001b[39m, \u001b[38;5;241m0\u001b[39m]) \u001b[38;5;241m==\u001b[39m [[\u001b[38;5;241m0\u001b[39m, \u001b[38;5;241m0\u001b[39m, \u001b[38;5;241m0\u001b[39m]]\n",
      "\u001b[0;31mAssertionError\u001b[0m: "
     ]
    }
   ],
   "source": [
    "from bisect import bisect_left\n",
    "\n",
    "\n",
    "def two_sum(nums: list[int], s_elem: int):\n",
    "    # -1/-1/2\n",
    "    for idx in range(len(nums)):\n",
    "        tmp = -s_elem - nums[idx]\n",
    "        c_idx = bisect_left(nums, tmp)\n",
    "\n",
    "        if (c_idx < len(nums)) and (tmp == nums[c_idx]):\n",
    "            return idx, c_idx\n",
    "\n",
    "    return None\n",
    "\n",
    "\n",
    "class Solution:\n",
    "    def threeSum(self, nums: list[int]) -> list[list[int]]:\n",
    "        nums.sort()\n",
    "\n",
    "        results = []\n",
    "        for idx in range(len(nums)):\n",
    "            lb = idx\n",
    "            rb = len(nums)\n",
    "            while lb < rb:\n",
    "                lb += 1\n",
    "                rb -= 1\n",
    "\n",
    "                candidate = [nums[idx] + nums[lb] + nums[rb]]\n",
    "                if sum(candidate) == 0:\n",
    "                    results.append(candidate)\n",
    "\n",
    "                    while ()\n",
    "                        lb += 1\n",
    "\n",
    "        return results\n",
    "\n",
    "\n",
    "assert Solution().threeSum([0, 0, 0]) == [[0, 0, 0]]"
   ]
  },
  {
   "cell_type": "code",
   "execution_count": 8,
   "metadata": {},
   "outputs": [
    {
     "data": {
      "text/plain": [
       "2"
      ]
     },
     "execution_count": 8,
     "metadata": {},
     "output_type": "execute_result"
    }
   ],
   "source": [
    "sorted_list = [1, 4, 6, 8, 12, 15, 20]\n",
    "\n",
    "# Find insertion point for 7\n",
    "bisect_left(sorted_list, 5)"
   ]
  }
 ],
 "metadata": {
  "kernelspec": {
   "display_name": "venv",
   "language": "python",
   "name": "python3"
  },
  "language_info": {
   "codemirror_mode": {
    "name": "ipython",
    "version": 3
   },
   "file_extension": ".py",
   "mimetype": "text/x-python",
   "name": "python",
   "nbconvert_exporter": "python",
   "pygments_lexer": "ipython3",
   "version": "3.12.9"
  }
 },
 "nbformat": 4,
 "nbformat_minor": 2
}
