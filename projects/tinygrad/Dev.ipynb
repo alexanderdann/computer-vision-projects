{
 "cells": [
  {
   "cell_type": "code",
   "execution_count": null,
   "metadata": {},
   "outputs": [],
   "source": [
    "%load_ext autoreload\n",
    "%autoreload 2"
   ]
  },
  {
   "cell_type": "code",
   "execution_count": null,
   "metadata": {},
   "outputs": [],
   "source": [
    "import numpy as np\n",
    "\n",
    "from nnx import autograd\n",
    "from nnx.autograd.activations import ReLU, Softmax\n",
    "from nnx.autograd.initialisation import xavier_uniform\n",
    "from nnx.autograd.layers import Conv2D\n",
    "from nnx.autograd.tensor import Tensor\n",
    "\n",
    "seed = 3\n",
    "\n",
    "autograd.rng = np.random.default_rng(seed=seed)"
   ]
  },
  {
   "cell_type": "code",
   "execution_count": null,
   "metadata": {},
   "outputs": [],
   "source": [
    "from typing import Callable\n",
    "\n",
    "from nnx.autograd.layers import Layer\n",
    "\n",
    "\n",
    "class Linear(Layer):\n",
    "    \"\"\"Implements an linear transformation.\"\"\"\n",
    "\n",
    "    def __init__(\n",
    "        self,\n",
    "        in_dim: int,\n",
    "        out_dim: int,\n",
    "        *,\n",
    "        initialiser: Callable,\n",
    "        bias: bool = True,\n",
    "    ) -> None:\n",
    "        \"\"\"C'tor of the Linear layer.\n",
    "\n",
    "        Args:\n",
    "            in_dim: count of input neurons.\n",
    "            out_dim: count of output neurons.\n",
    "            initialiser: callable to initialise layers.\n",
    "            bias: whether we want to use the bias term.\n",
    "\n",
    "        \"\"\"\n",
    "        self._in_dim = in_dim\n",
    "        self._out_dim = out_dim\n",
    "\n",
    "        weights, bias_ = initialiser(\n",
    "            in_dim,\n",
    "            out_dim,\n",
    "            size=(out_dim, in_dim),\n",
    "        )\n",
    "\n",
    "        self._weights = Tensor(weights, requires_grad=True)\n",
    "        self._bias = Tensor(bias_, requires_grad=True) if bias else None\n",
    "\n",
    "    def forward(self, inputs: Tensor) -> Tensor:\n",
    "        \"\"\"Compute the transformation given the inputs.\n",
    "\n",
    "        Args:\n",
    "            inputs: Tensor which needs to be transformed.\n",
    "\n",
    "        Returns:\n",
    "            Transformed Tensor.\n",
    "\n",
    "        \"\"\"\n",
    "        outputs: Tensor = inputs @ self._weights.T\n",
    "\n",
    "        outputs.prev = {inputs, self._weights}\n",
    "        if self._bias is not None:\n",
    "            outputs.prev.add(self._bias)\n",
    "            outputs += self._bias\n",
    "\n",
    "        def _backward() -> None:\n",
    "            if inputs.requires_grad:\n",
    "                dx = outputs.grad @ inputs.data.T\n",
    "                inputs.grad = dx if inputs.grad is None else inputs.grad + dx\n",
    "\n",
    "            if self._weights.requires_grad:\n",
    "                dw = self._weights.data.T @ outputs.grad\n",
    "                self._weights.grad = (\n",
    "                    dw if self._weights.grad is None else self._weights.grad + dw\n",
    "                )\n",
    "\n",
    "            if self._bias is not None and self._bias.requires_grad:\n",
    "                db = (\n",
    "                    np.sum(outputs.grad, axis=0, keepdims=True)\n",
    "                    if outputs.grad.ndim > self._bias.data.ndim\n",
    "                    else outputs.grad\n",
    "                )\n",
    "\n",
    "                self._bias.grad = (\n",
    "                    db if self._bias.grad is None else self._bias.grad + db\n",
    "                )\n",
    "\n",
    "        outputs.register_backward(_backward)\n",
    "\n",
    "        return outputs"
   ]
  },
  {
   "cell_type": "code",
   "execution_count": null,
   "metadata": {},
   "outputs": [],
   "source": [
    "class SimpleNetwork:\n",
    "    \"\"\"Represents a small wrapper for multiple layers.\"\"\"\n",
    "\n",
    "    def __init__(self, num_classes: int) -> None:\n",
    "        \"\"\"C'tor of SimpleNetwork.\"\"\"\n",
    "        self._layers = [\n",
    "            Conv2D((3, 3), 3, 32, initialiser=xavier_uniform),\n",
    "            ReLU(),\n",
    "            Conv2D((3, 3), 32, 64, initialiser=xavier_uniform),\n",
    "            ReLU(),\n",
    "            Conv2D((3, 3), 64, 128, initialiser=xavier_uniform),\n",
    "            ReLU(),\n",
    "            lambda x: Tensor(x.data.reshape(1, -1)),\n",
    "            Linear(86528, num_classes, initialiser=xavier_uniform),\n",
    "            Softmax(),\n",
    "        ]\n",
    "\n",
    "    def __call__(self, inputs: Tensor) -> Tensor:\n",
    "        \"\"\"Compute a forward pass.\n",
    "\n",
    "        Returns:\n",
    "            The result after computed forward pass.\n",
    "\n",
    "        \"\"\"\n",
    "        output = inputs\n",
    "        for layer in self._layers:\n",
    "            output = layer(output)\n",
    "\n",
    "        return output\n"
   ]
  },
  {
   "cell_type": "code",
   "execution_count": null,
   "metadata": {},
   "outputs": [],
   "source": [
    "network = SimpleNetwork(10)"
   ]
  },
  {
   "cell_type": "code",
   "execution_count": null,
   "metadata": {},
   "outputs": [],
   "source": [
    "outputs = network(inputs=inputs)\n",
    "mock_label = Tensor(np.ones_like(outputs.data))\n"
   ]
  },
  {
   "cell_type": "code",
   "execution_count": null,
   "metadata": {},
   "outputs": [],
   "source": [
    "outputs.backward(np.ones_like(outputs.data))"
   ]
  }
 ],
 "metadata": {
  "kernelspec": {
   "display_name": "venv",
   "language": "python",
   "name": "python3"
  },
  "language_info": {
   "codemirror_mode": {
    "name": "ipython",
    "version": 3
   },
   "file_extension": ".py",
   "mimetype": "text/x-python",
   "name": "python",
   "nbconvert_exporter": "python",
   "pygments_lexer": "ipython3",
   "version": "3.12.9"
  }
 },
 "nbformat": 4,
 "nbformat_minor": 2
}
