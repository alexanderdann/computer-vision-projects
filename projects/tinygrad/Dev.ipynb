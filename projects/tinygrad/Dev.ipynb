{
 "cells": [
  {
   "cell_type": "code",
   "execution_count": 1,
   "metadata": {},
   "outputs": [],
   "source": [
    "%load_ext autoreload\n",
    "%autoreload 2"
   ]
  },
  {
   "cell_type": "code",
   "execution_count": 2,
   "metadata": {},
   "outputs": [],
   "source": [
    "import numpy as np\n",
    "\n",
    "from nnx import autograd\n",
    "from nnx.autograd.activations import ReLU, Softmax\n",
    "from nnx.autograd.initialisation import xavier_uniform\n",
    "from nnx.autograd.layers import Conv2D\n",
    "from nnx.autograd.tensor import Tensor\n",
    "\n",
    "seed = 3\n",
    "\n",
    "autograd.rng = np.random.default_rng(seed=seed)"
   ]
  },
  {
   "cell_type": "code",
   "execution_count": null,
   "metadata": {},
   "outputs": [],
   "source": [
    "from nnx.autograd.layers import Layer\n",
    "\n",
    "\n",
    "class Linear(Layer):\n",
    "    \"\"\"Implements an linear transformation.\"\"\"\n",
    "\n",
    "    def __init__(\n",
    "        self,\n",
    "        in_dim: int,\n",
    "        out_dim: int,\n",
    "        *,\n",
    "        initialiser: callable,\n",
    "        bias: bool = True,\n",
    "    ) -> None:\n",
    "        \"\"\"C'tor of the Linear layer.\n",
    "\n",
    "        Args:\n",
    "            in_dim: count of input neurons.\n",
    "            out_dim: count of output neurons.\n",
    "            initialiser: callable to initialise layers.\n",
    "            bias: whether we want to use the bias term.\n",
    "\n",
    "        \"\"\"\n",
    "        self._in_dim = in_dim\n",
    "        self._out_dim = out_dim\n",
    "\n",
    "        weights, bias_ = initialiser(\n",
    "            in_dim,\n",
    "            out_dim,\n",
    "            size=(out_dim, in_dim),\n",
    "        )\n",
    "\n",
    "        self._weights = Tensor(weights, requires_grad=True)\n",
    "        self._bias = Tensor(bias_, requires_grad=True) if bias else None\n",
    "\n",
    "    def forward(self, inputs: Tensor) -> Tensor:\n",
    "        \"\"\"Compute the transformation given the inputs.\n",
    "\n",
    "        Args:\n",
    "            inputs: Tensor which needs to be transformed.\n",
    "\n",
    "        Returns:\n",
    "            Transformed Tensor.\n",
    "\n",
    "        \"\"\"\n",
    "        outputs: Tensor = self._weights @ inputs\n",
    "\n",
    "        outputs.prev = {inputs, self._weights}\n",
    "        if self._bias is not None:\n",
    "            outputs.prev.add(self._bias)\n",
    "            outputs += self._bias\n",
    "\n",
    "        def _backward() -> None:\n",
    "            pass\n",
    "\n",
    "        outputs.register_backward(_backward)\n",
    "\n",
    "        return outputs"
   ]
  },
  {
   "cell_type": "code",
   "execution_count": 4,
   "metadata": {},
   "outputs": [],
   "source": [
    "inputs = Tensor(autograd.rng.random((1, 32, 32, 3)), requires_grad=True)\n",
    "layer_1 = Conv2D((3, 3), 3, 64, initialiser=xavier_uniform)\n",
    "act_1 = ReLU()\n",
    "layer_2 = Conv2D((3, 3), 64, 128, initialiser=xavier_uniform)\n",
    "act_2 = ReLU()\n",
    "layer_3 = Conv2D((3, 3), 128, 3, initialiser=xavier_uniform)\n",
    "act_3 = Softmax()\n",
    "\n",
    "\n",
    "outputs = act_3(layer_3(act_2(layer_2(act_1(layer_1(inputs))))))"
   ]
  },
  {
   "cell_type": "code",
   "execution_count": 5,
   "metadata": {},
   "outputs": [],
   "source": [
    "mock_label = Tensor(np.ones_like(outputs.data))"
   ]
  },
  {
   "cell_type": "code",
   "execution_count": 6,
   "metadata": {},
   "outputs": [],
   "source": [
    "outputs.backward(np.ones_like(outputs.data))"
   ]
  }
 ],
 "metadata": {
  "kernelspec": {
   "display_name": "venv",
   "language": "python",
   "name": "python3"
  },
  "language_info": {
   "codemirror_mode": {
    "name": "ipython",
    "version": 3
   },
   "file_extension": ".py",
   "mimetype": "text/x-python",
   "name": "python",
   "nbconvert_exporter": "python",
   "pygments_lexer": "ipython3",
   "version": "3.12.9"
  }
 },
 "nbformat": 4,
 "nbformat_minor": 2
}
