{
 "cells": [
  {
   "cell_type": "code",
   "execution_count": 1,
   "metadata": {},
   "outputs": [],
   "source": [
    "%load_ext autoreload\n",
    "%autoreload 2"
   ]
  },
  {
   "cell_type": "code",
   "execution_count": 2,
   "metadata": {},
   "outputs": [],
   "source": [
    "import numpy as np\n",
    "\n",
    "seed = 3\n",
    "\n",
    "rng = np.random.default_rng(seed=seed)"
   ]
  },
  {
   "cell_type": "code",
   "execution_count": 3,
   "metadata": {},
   "outputs": [],
   "source": [
    "def xavier_uniform(\n",
    "    fan_in: int, fan_out: int, gain: float = 1\n",
    ") -> tuple[np.ndarray, np.ndarray]:\n",
    "    \"\"\"Initialize the weights using the Xavier Uniform.\n",
    "\n",
    "    Details can be found in  https://proceedings.mlr.press/v9/glorot10a/glorot10a.pdf.\n",
    "\n",
    "    Args:\n",
    "        fan_in: the amount of input neurons.\n",
    "        fan_out: the amout of output neurons.\n",
    "        gain: optional factor which can also be applied in PyTorch.\n",
    "\n",
    "    Returns:\n",
    "        A tuple containing the weights and bias initialized as per Xavier Uniform.\n",
    "\n",
    "    \"\"\"\n",
    "    limit = gain * np.sqrt(6 / (fan_in + fan_out))\n",
    "    weights = rng.uniform(-limit, limit, size=(fan_in, fan_out))\n",
    "    bias = np.zeros((fan_out, 1))\n",
    "\n",
    "    return weights, bias\n"
   ]
  },
  {
   "cell_type": "code",
   "execution_count": null,
   "metadata": {},
   "outputs": [],
   "source": [
    "def some_func(a):\n",
    "    print(\"dsd\", a())\n",
    "    return a\n",
    "\n",
    "@some_func\n",
    "def other_func(ip):\n",
    "    print(ip)\n",
    "    return 0\n",
    "\n",
    "other_func(np.zeros(shape=(3, 3)))"
   ]
  },
  {
   "cell_type": "code",
   "execution_count": null,
   "metadata": {},
   "outputs": [],
   "source": [
    "def sanity_checks(func: callable) -> np.ndarray:\n",
    "    \"\"\"Check the input to have correct properties.\n",
    "\n",
    "    Args:\n",
    "        func: a callable used to evaluate np arrays.\n",
    "\n",
    "    Returns:\n",
    "        The same array which passed all tests.\n",
    "\n",
    "    \"\"\"\n",
    "\n",
    "    def _wrapper(self, inputs: np.ndarray) -> np.ndarray:\n",
    "        expected_dim = 4\n",
    "        if inputs.ndim != expected_dim:\n",
    "            msg = f\"Data needs to have ndim of 4, got {inputs.ndim}\"\n",
    "            raise RuntimeError(msg)\n",
    "\n",
    "        _, _, _, num_channels = inputs.shape\n",
    "\n",
    "        if num_channels != self._in_dim:\n",
    "            msg = (\n",
    "                \"Expected number of channels\",\n",
    "                f\"to be {self._in_dim} and not {num_channels}.\",\n",
    "            )\n",
    "            raise RuntimeError(msg)\n",
    "\n",
    "        return inputs\n",
    "\n",
    "    return _wrapper\n",
    "\n",
    "\n",
    "class Conv2D[T]:\n",
    "    \"\"\"Resembles a 2D Convolution.\"\"\"\n",
    "\n",
    "    def __init__(self, in_dim: int, out_dim: int, *, bias: bool = True) -> None:\n",
    "        \"\"\"C'tor of Conv2D.\n",
    "\n",
    "        Args:\n",
    "            in_dim: count of input neurons.\n",
    "            out_dim: count of output neurons.\n",
    "            bias: whether we want to use the bias term.\n",
    "\n",
    "        \"\"\"\n",
    "        self._in_dim = in_dim\n",
    "        self._out_dim = out_dim\n",
    "        self._weights, self._bias = xavier_uniform(in_dim, out_dim)\n",
    "\n",
    "        if not bias:\n",
    "            del self._bias\n",
    "\n",
    "    @sanity_checks\n",
    "    def __call__(self, inputs: np.ndarray):\n",
    "        # 2D convolution as next step\n",
    "        return inputs\n",
    "\n",
    "    def backward(self, ):\n",
    "        # Backward pass missing\n"
   ]
  },
  {
   "cell_type": "code",
   "execution_count": null,
   "metadata": {},
   "outputs": [],
   "source": [
    "inputs = rng.random((1, 32, 32, 3))\n",
    "layer_1 = Conv2D(3, 64)\n",
    "\n",
    "\n",
    "layer_1(inputs)"
   ]
  }
 ],
 "metadata": {
  "kernelspec": {
   "display_name": "venv",
   "language": "python",
   "name": "python3"
  },
  "language_info": {
   "codemirror_mode": {
    "name": "ipython",
    "version": 3
   },
   "file_extension": ".py",
   "mimetype": "text/x-python",
   "name": "python",
   "nbconvert_exporter": "python",
   "pygments_lexer": "ipython3",
   "version": "3.12.9"
  }
 },
 "nbformat": 4,
 "nbformat_minor": 2
}
