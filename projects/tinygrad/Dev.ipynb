{
 "cells": [
  {
   "cell_type": "code",
   "execution_count": 1,
   "metadata": {},
   "outputs": [],
   "source": [
    "%load_ext autoreload\n",
    "%autoreload 2"
   ]
  },
  {
   "cell_type": "code",
   "execution_count": 2,
   "metadata": {},
   "outputs": [],
   "source": [
    "import numpy as np\n",
    "\n",
    "from nnx import autograd\n",
    "from nnx.autograd.initialisation import xavier_uniform\n",
    "from nnx.autograd.layers import Conv2D\n",
    "from nnx.autograd.tensor import Tensor\n",
    "\n",
    "seed = 3\n",
    "\n",
    "autograd.rng = np.random.default_rng(seed=seed)"
   ]
  },
  {
   "cell_type": "code",
   "execution_count": 3,
   "metadata": {},
   "outputs": [],
   "source": [
    "inputs = Tensor(autograd.rng.random((1, 32, 32, 3)), requires_grad=True)\n",
    "layer_1 = Conv2D((3, 3), 3, 64, initialiser=xavier_uniform)\n",
    "layer_2 = Conv2D((3, 3), 64, 128, initialiser=xavier_uniform)\n",
    "layer_3 = Conv2D((3, 3), 128, 3, initialiser=xavier_uniform)\n",
    "\n",
    "\n",
    "outputs = layer_3(layer_2(layer_1(inputs)))"
   ]
  },
  {
   "cell_type": "code",
   "execution_count": 4,
   "metadata": {},
   "outputs": [],
   "source": [
    "mock_label = Tensor(np.ones_like(outputs.data))"
   ]
  },
  {
   "cell_type": "code",
   "execution_count": 5,
   "metadata": {},
   "outputs": [],
   "source": [
    "outputs.backward(np.ones_like(outputs.data))"
   ]
  }
 ],
 "metadata": {
  "kernelspec": {
   "display_name": "venv",
   "language": "python",
   "name": "python3"
  },
  "language_info": {
   "codemirror_mode": {
    "name": "ipython",
    "version": 3
   },
   "file_extension": ".py",
   "mimetype": "text/x-python",
   "name": "python",
   "nbconvert_exporter": "python",
   "pygments_lexer": "ipython3",
   "version": "3.12.9"
  }
 },
 "nbformat": 4,
 "nbformat_minor": 2
}
